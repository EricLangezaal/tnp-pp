{
 "cells": [
  {
   "cell_type": "code",
   "execution_count": 23,
   "metadata": {},
   "outputs": [],
   "source": [
    "import torch\n",
    "import lightning.pytorch as pl\n",
    "import matplotlib.pyplot as plt\n",
    "from hydra.utils import instantiate\n",
    "\n",
    "from icicl.utils.experiment_utils import extract_config\n",
    "from icicl.data.on_off_grid import OOTGBatch, SyntheticOOTGGenerator\n",
    "from icicl.data.gp import RandomScaleGPGenerator"
   ]
  },
  {
   "cell_type": "markdown",
   "metadata": {},
   "source": [
    "# Trying OOTG Batches!"
   ]
  },
  {
   "cell_type": "code",
   "execution_count": 47,
   "metadata": {},
   "outputs": [],
   "source": [
    "OOTGGen = SyntheticOOTGGenerator(\n",
    "    off_grid_generator=RandomScaleGPGenerator(\n",
    "        dim= 1, \n",
    "        kernel_type= \"eq\", min_log10_lengthscale= -0.602, max_log10_lengthscale= 0.602, noise_std= 0.2,\n",
    "        min_num_ctx = 1, max_num_ctx = 64, min_num_trg = 128, max_num_trg = 128,\n",
    "        context_range = [[-2.0, 2.0]],\n",
    "        target_range = [[-3.0, 3.0]],\n",
    "        samples_per_epoch = 16384,\n",
    "        batch_size = 16\n",
    "    ),\n",
    "    grid_range=[[-3.0, 3.0]],\n",
    "    points_per_unit=4,\n",
    "    samples_per_epoch = 16000,\n",
    "    batch_size = 16,\n",
    ")"
   ]
  },
  {
   "cell_type": "code",
   "execution_count": 51,
   "metadata": {},
   "outputs": [
    {
     "name": "stdout",
     "output_type": "stream",
     "text": [
      "torch.Size([16, 5, 1])\n",
      "torch.Size([16, 33, 1])\n",
      "torch.Size([16, 33, 1])\n",
      "torch.Size([16, 128, 1])\n"
     ]
    }
   ],
   "source": [
    "for batch in OOTGGen:\n",
    "    print(batch.xc_off_grid.shape)\n",
    "    print(batch.xc_on_grid.shape)\n",
    "    print(batch.yc_on_grid.shape)\n",
    "    print(batch.xt.shape)\n",
    "    break"
   ]
  },
  {
   "cell_type": "code",
   "execution_count": 9,
   "metadata": {},
   "outputs": [
    {
     "name": "stderr",
     "output_type": "stream",
     "text": [
      "Global seed set to 0\n",
      "Global seed set to 0\n"
     ]
    },
    {
     "data": {
      "text/plain": [
       "0"
      ]
     },
     "execution_count": 9,
     "metadata": {},
     "output_type": "execute_result"
    }
   ],
   "source": [
    "config, config_dict = extract_config(\"experiments/configs/thesis/on_off_grid_gp_synthetic.yml\", [])\n",
    "pl.seed_everything(config.misc.seed)\n",
    "experiment = instantiate(config)\n",
    "pl.seed_everything(experiment.misc.seed)"
   ]
  },
  {
   "cell_type": "markdown",
   "metadata": {},
   "source": [
    "# Can I chuck a transformer in a ConvCNP?"
   ]
  },
  {
   "cell_type": "code",
   "execution_count": 44,
   "metadata": {},
   "outputs": [],
   "source": [
    "import torch\n",
    "import torch.nn as nn\n",
    "import math\n",
    "\n",
    "from icicl.models.convcnp import ConvCNP, ConvCNPEncoder, ConvCNPDecoder\n",
    "from icicl.networks.setconv import SetConvDecoder, SetConvEncoder\n",
    "from icicl.networks.mlp import MLP\n",
    "from icicl.likelihoods.gaussian import HeteroscedasticNormalLikelihood"
   ]
  },
  {
   "cell_type": "code",
   "execution_count": 4,
   "metadata": {},
   "outputs": [],
   "source": [
    "class DummyFormer(nn.Module):\n",
    "\n",
    "     def forward(self, x: torch.Tensor) -> torch.Tensor:\n",
    "        # x is actually z_grid, so yc on a grid I think.\n",
    "        # shape is (batch, num_points * 2 + 1 (middle element), num_channels), where num_channels comes from resizer\n",
    "        # middle dimension depends on points_per_unit, range of input, and margin.\n",
    "\n",
    "        print(x.shape)\n",
    "        return x"
   ]
  },
  {
   "cell_type": "code",
   "execution_count": 27,
   "metadata": {},
   "outputs": [],
   "source": [
    "num_channels, points_per_unit = 16, 64\n",
    "\n",
    "encoder_resizer = MLP(in_dim=2, out_dim=num_channels, num_layers=2,width= num_channels)\n",
    "decoder_resizer = MLP(in_dim=num_channels, out_dim=2, num_layers=2, width= num_channels)\n",
    "\n",
    "setconv_enc = SetConvEncoder(dim=1, points_per_unit=points_per_unit, init_lengthscale=2 * 1/ points_per_unit, margin=0.1, train_lengthscale=True)\n",
    "setconv_dec = SetConvDecoder(dim=1, init_lengthscale=.1, scaling_factor=points_per_unit ** 1)\n",
    "\n",
    "dummy = DummyFormer()\n",
    "convcnp_encoder = ConvCNPEncoder(conv_net=dummy, setconv_encoder=setconv_enc, resizer=encoder_resizer)\n",
    "convcnp_decoder = ConvCNPDecoder(setconv_decoder=setconv_dec, resizer=decoder_resizer)\n",
    "\n",
    "convCNP = ConvCNP(encoder=convcnp_encoder, decoder=convcnp_decoder, likelihood=HeteroscedasticNormalLikelihood())"
   ]
  },
  {
   "cell_type": "code",
   "execution_count": 43,
   "metadata": {},
   "outputs": [
    {
     "name": "stdout",
     "output_type": "stream",
     "text": [
      "torch.Size([16, 11, 1]) torch.Size([16, 128, 1])\n",
      "tensor(513.)\n",
      "torch.Size([16, 513, 16])\n"
     ]
    },
    {
     "name": "stderr",
     "output_type": "stream",
     "text": [
      "/home/erl50/tnp-pp/icicl/networks/setconv.py:238: UserWarning: torch.range is deprecated and will be removed in a future release because its behavior is inconsistent with Python's range builtin. Instead, use torch.arange, which produces values in [start, end).\n",
      "  torch.range(-num_points[i], num_points[i], dtype=xmin.dtype)\n"
     ]
    }
   ],
   "source": [
    "for batch in experiment.generators.train:\n",
    "    print(batch.xc.shape, batch.xt.shape)\n",
    "    xmin = torch.min(batch.xt, dim=-2)[0]\n",
    "    xmax = torch.max(batch.xt, dim=-2)[0]\n",
    "    num_points = torch.ceil(\n",
    "        (0.5 * (xmax - xmin) + 0.1) * points_per_unit\n",
    "    )\n",
    "    num_points = torch.max(num_points, dim=0)[0] # ie. 135\n",
    "    num_points = 2 ** torch.ceil(torch.log(torch.as_tensor(135)) / math.log(2.0)) # closest power of 2, so 256 for example. \n",
    "    print(num_points * 2 + 1) # both sides of zero, and the middle point.\n",
    "    convCNP(xc=batch.xc, yc=batch.yc, xt=batch.xt)\n",
    "    break"
   ]
  },
  {
   "cell_type": "markdown",
   "metadata": {},
   "source": [
    "# ConvSet TNP Encoder Tests"
   ]
  },
  {
   "cell_type": "code",
   "execution_count": 21,
   "metadata": {},
   "outputs": [
    {
     "name": "stdout",
     "output_type": "stream",
     "text": [
      "tensor([[-3.,  3.],\n",
      "        [-4.,  4.]])\n",
      "tensor([[-3., -4.]])\n"
     ]
    },
    {
     "data": {
      "text/plain": [
       "torch.Size([2, 1089, 2])"
      ]
     },
     "execution_count": 21,
     "metadata": {},
     "output_type": "execute_result"
    }
   ],
   "source": [
    "from icicl.utils.conv import make_grid, flatten_grid\n",
    "import torch\n",
    "import math\n",
    "\n",
    "grid_range = torch.as_tensor([[-3.0, 3.0], [-4.0, 4.0]])\n",
    "print(grid_range)\n",
    "\n",
    "batch_shape = torch.Size((2,))\n",
    "\n",
    "print(grid_range[:, 0].unsqueeze(0))\n",
    "\n",
    "grid = make_grid(\n",
    "    xmin = grid_range[:, 0].repeat(*batch_shape, 1), \n",
    "    xmax = grid_range[:, 1].repeat(*batch_shape, 1), \n",
    "    points_per_unit = 4, \n",
    "    margin = 0)\n",
    "\n",
    "flatten_grid(grid).shape"
   ]
  }
 ],
 "metadata": {
  "kernelspec": {
   "display_name": "tnp",
   "language": "python",
   "name": "python3"
  },
  "language_info": {
   "codemirror_mode": {
    "name": "ipython",
    "version": 3
   },
   "file_extension": ".py",
   "mimetype": "text/x-python",
   "name": "python",
   "nbconvert_exporter": "python",
   "pygments_lexer": "ipython3",
   "version": "3.9.12"
  }
 },
 "nbformat": 4,
 "nbformat_minor": 2
}
