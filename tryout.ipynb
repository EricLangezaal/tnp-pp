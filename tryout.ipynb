{
 "cells": [
  {
   "cell_type": "code",
   "execution_count": 1,
   "metadata": {},
   "outputs": [
    {
     "name": "stderr",
     "output_type": "stream",
     "text": [
      "/home/erl50/.conda/envs/tnp/lib/python3.9/site-packages/tqdm/auto.py:21: TqdmWarning: IProgress not found. Please update jupyter and ipywidgets. See https://ipywidgets.readthedocs.io/en/stable/user_install.html\n",
      "  from .autonotebook import tqdm as notebook_tqdm\n"
     ]
    }
   ],
   "source": [
    "import torch\n",
    "import lightning.pytorch as pl\n",
    "import matplotlib.pyplot as plt\n",
    "from hydra.utils import instantiate\n",
    "\n",
    "from icicl.utils.experiment_utils import extract_config\n",
    "from icicl.data.on_off_grid import OOTGBatch, SyntheticOOTGGenerator\n",
    "from icicl.data.gp import RandomScaleGPGenerator\n",
    "\n",
    "%load_ext autoreload\n",
    "%autoreload 2"
   ]
  },
  {
   "cell_type": "markdown",
   "metadata": {},
   "source": [
    "# Trying OOTG Batches!"
   ]
  },
  {
   "cell_type": "code",
   "execution_count": 2,
   "metadata": {},
   "outputs": [],
   "source": [
    "OOTGGen = SyntheticOOTGGenerator(\n",
    "    off_grid_generator=RandomScaleGPGenerator(\n",
    "        dim=1, \n",
    "        kernel_type= \"eq\", min_log10_lengthscale= -0.602, max_log10_lengthscale= 0.602, noise_std= 0.2,\n",
    "        num_tasks=2,\n",
    "        min_num_ctx = 1, max_num_ctx = 64, min_num_trg = 128, max_num_trg = 128,\n",
    "        context_range = [[-2.0, 2.0]],\n",
    "        target_range = [[-3.0, 3.0]],\n",
    "        samples_per_epoch = 16384,\n",
    "        batch_size = 16\n",
    "    ),\n",
    "    grid_range=[[-3.0, 3.0]],\n",
    "    points_per_unit=8,\n",
    "    samples_per_epoch = 16000,\n",
    "    batch_size = 16,\n",
    ")"
   ]
  },
  {
   "cell_type": "code",
   "execution_count": 3,
   "metadata": {},
   "outputs": [
    {
     "name": "stdout",
     "output_type": "stream",
     "text": [
      "torch.Size([16, 65, 1])\n",
      "torch.Size([16, 65, 1])\n",
      "torch.Size([16, 64, 1])\n",
      "torch.Size([16, 128, 1])\n"
     ]
    },
    {
     "name": "stderr",
     "output_type": "stream",
     "text": [
      "/home/erl50/.conda/envs/tnp/lib/python3.9/site-packages/linear_operator/utils/interpolation.py:71: UserWarning: torch.sparse.SparseTensor(indices, values, shape, *, device=) is deprecated.  Please use torch.sparse_coo_tensor(indices, values, shape, dtype=, device=). (Triggered internally at ../torch/csrc/utils/tensor_new.cpp:605.)\n",
      "  summing_matrix = cls(summing_matrix_indices, summing_matrix_values, size)\n"
     ]
    }
   ],
   "source": [
    "for batch in OOTGGen:\n",
    "    print(batch.xc_on_grid.shape)\n",
    "    print(batch.yc_on_grid.shape)\n",
    "    print(batch.yc_off_grid.shape)\n",
    "    print(batch.xt.shape)\n",
    "    break"
   ]
  },
  {
   "cell_type": "code",
   "execution_count": 5,
   "metadata": {},
   "outputs": [
    {
     "name": "stdout",
     "output_type": "stream",
     "text": [
      "torch.Size([16, 65, 2])\n",
      "torch.Size([16, 65, 3])\n",
      "torch.Size([16, 65, 4])\n",
      "torch.Size([16, 65, 5])\n",
      "torch.Size([16, 4, 5])\n",
      "torch.Size([16, 128, 5])\n"
     ]
    }
   ],
   "source": [
    "from icicl.models.ootg_tnp import OOTGSetConvTNPDEncoder\n",
    "from icicl.utils.helpers import preprocess_observations\n",
    "from icicl.utils.conv import flatten_grid, unflatten_grid\n",
    "from icicl.networks.mlp import MLP\n",
    "\n",
    "dim = 1\n",
    "xy_encoder = MLP(in_dim= 3 + dim, out_dim = 5, num_layers = 2, width= 32)\n",
    "\n",
    "grid_encoder = OOTGSetConvTNPDEncoder(dim=dim, init_lengthscale=2 * 1/ 4, xy_encoder = xy_encoder, transformer_encoder=None)\n",
    "\n",
    "patch_size = 16\n",
    "conv = torch.nn.Conv1d(in_channels=5, out_channels=5, kernel_size=patch_size, stride=patch_size)\n",
    "\n",
    "def coarsen_grid(z: torch.Tensor) -> torch.Tensor:\n",
    "        \n",
    "        # z will be of shape (batch, num_on_grid, embed_dim)\n",
    "        z = unflatten_grid(z, dim=dim)\n",
    "        # move 'channels' (i.e embed_dim) right after batch\n",
    "        z = z.movedim(-1, 1)\n",
    "        z = conv(z)\n",
    "        # move 'channels' (i.e embed_dim) to end again\n",
    "        z = z.movedim(1, -1)\n",
    "        return flatten_grid(z)\n",
    "\n",
    "for batch in OOTGGen:\n",
    "    xc, yc = grid_encoder.grid_encode(xc_off_grid=batch.xc_off_grid, yc_off_grid=batch.yc_off_grid, xc_on_grid=batch.xc_on_grid, yc_on_grid=batch.yc_on_grid)\n",
    "    print(yc.shape)\n",
    "    yc, yt = preprocess_observations(batch.xt, yc)\n",
    "    print(yc.shape)\n",
    "    zc = torch.cat((xc, yc), dim=-1)\n",
    "    print(zc.shape)\n",
    "    # So zc is 3 + xdim\n",
    "    zc = xy_encoder(zc)\n",
    "    print(zc.shape)\n",
    "    zc = coarsen_grid(zc)  \n",
    "    print(zc.shape) \n",
    "\n",
    "    zt = torch.cat((batch.xt, yt), dim=-1)\n",
    "    zt = xy_encoder(zt)\n",
    "    print(zt.shape)\n",
    "    break"
   ]
  },
  {
   "cell_type": "markdown",
   "metadata": {},
   "source": [
    "# Profiling"
   ]
  },
  {
   "cell_type": "code",
   "execution_count": 21,
   "metadata": {},
   "outputs": [
    {
     "name": "stderr",
     "output_type": "stream",
     "text": [
      "Global seed set to 0\n"
     ]
    },
    {
     "name": "stderr",
     "output_type": "stream",
     "text": [
      "Global seed set to 0\n"
     ]
    },
    {
     "data": {
      "text/plain": [
       "0"
      ]
     },
     "execution_count": 21,
     "metadata": {},
     "output_type": "execute_result"
    }
   ],
   "source": [
    "config_tnp, _ = extract_config(\"experiments/configs/thesis/ootg_gp_conv_encoder_tnp.yml\", [])\n",
    "config_vit, _ = extract_config(\"experiments/configs/thesis/ootg_gp_conv_encoder_vit.yml\", [])\n",
    "pl.seed_everything(config_tnp.misc.seed)\n",
    "experiment_tnp = instantiate(config_tnp)\n",
    "experiment_vit = instantiate(config_vit)\n",
    "pl.seed_everything(experiment_tnp.misc.seed)"
   ]
  },
  {
   "cell_type": "code",
   "execution_count": 28,
   "metadata": {},
   "outputs": [
    {
     "name": "stdout",
     "output_type": "stream",
     "text": [
      "This took 14.1860032081604 seconds\n"
     ]
    }
   ],
   "source": [
    "from icicl.utils.experiment_utils import np_loss_fn\n",
    "import time\n",
    "\n",
    "tnp = experiment_tnp.model\n",
    "vit = experiment_vit.model\n",
    "gen_train = experiment_tnp.generators.train\n",
    "\n",
    "start = time.time()\n",
    "for i, batch in enumerate(gen_train):\n",
    "    #model.encoder.grid_encode(batch.xc_off_grid, batch.yc_off_grid, batch.xc_on_grid, batch.yc_on_grid)\n",
    "    np_loss_fn(tnp, batch)\n",
    "    \n",
    "    if i > 100:\n",
    "        break\n",
    "\n",
    "print(f\"This took {time.time() - start} seconds\")"
   ]
  },
  {
   "cell_type": "markdown",
   "metadata": {},
   "source": [
    "# ConvSet TNP Encoder Tests"
   ]
  },
  {
   "cell_type": "code",
   "execution_count": 60,
   "metadata": {},
   "outputs": [
    {
     "name": "stdout",
     "output_type": "stream",
     "text": [
      "The autoreload extension is already loaded. To reload it, use:\n",
      "  %reload_ext autoreload\n",
      "tensor([[-5,  5]])\n",
      "torch.Size([2, 65, 1])\n",
      "tensor(-5.) tensor(5.)\n"
     ]
    },
    {
     "data": {
      "text/plain": [
       "True"
      ]
     },
     "execution_count": 60,
     "metadata": {},
     "output_type": "execute_result"
    }
   ],
   "source": [
    "%load_ext autoreload\n",
    "%autoreload 2\n",
    "\n",
    "from icicl.utils.conv import make_grid, flatten_grid, unflatten_grid\n",
    "import torch \n",
    "import math\n",
    "import einops\n",
    "\n",
    "grid_range = torch.as_tensor([[-5,5]])\n",
    "print(grid_range)\n",
    "\n",
    "batch_shape = torch.Size((2,))\n",
    "\n",
    "xmin = grid_range[:, 0].repeat(*batch_shape, 1)\n",
    "xmax = grid_range[:, 1].repeat(*batch_shape, 1)\n",
    "\n",
    "grid = make_grid(\n",
    "    xmin = xmin, \n",
    "    xmax = xmax, \n",
    "    points_per_unit = 4, \n",
    "    margin = 0)\n",
    "\n",
    "print(grid.shape)\n",
    "print(grid.amin(), grid.amax())\n",
    "\n",
    "\n",
    "\n",
    "\n",
    "\n",
    "plat = flatten_grid(grid)\n",
    "\n",
    "onplat = unflatten_grid(plat)\n",
    "\n",
    "\n",
    "torch.allclose(grid, onplat)\n"
   ]
  },
  {
   "cell_type": "markdown",
   "metadata": {},
   "source": [
    "# Getting the true log-likelihood"
   ]
  },
  {
   "cell_type": "code",
   "execution_count": 62,
   "metadata": {},
   "outputs": [
    {
     "name": "stderr",
     "output_type": "stream",
     "text": [
      "Global seed set to 0\n",
      "Global seed set to 0\n"
     ]
    },
    {
     "name": "stdout",
     "output_type": "stream",
     "text": [
      "The autoreload extension is already loaded. To reload it, use:\n",
      "  %reload_ext autoreload\n"
     ]
    },
    {
     "name": "stderr",
     "output_type": "stream",
     "text": [
      "Validation:   0%|          | 0/1 [00:00<?, ?it/s]/home/erl50/.conda/envs/tnp/lib/python3.9/site-packages/linear_operator/utils/interpolation.py:71: UserWarning: torch.sparse.SparseTensor(indices, values, shape, *, device=) is deprecated.  Please use torch.sparse_coo_tensor(indices, values, shape, dtype=, device=). (Triggered internally at ../torch/csrc/utils/tensor_new.cpp:605.)\n",
      "  summing_matrix = cls(summing_matrix_indices, summing_matrix_values, size)\n",
      "Validation: 100%|██████████| 1/1 [00:00<00:00,  5.56it/s]\n"
     ]
    }
   ],
   "source": [
    "%load_ext autoreload\n",
    "%autoreload 2\n",
    "\n",
    "from tqdm import tqdm\n",
    "import lightning.pytorch as pl\n",
    "from hydra.utils import instantiate\n",
    "from experiments.plot import plot\n",
    "from icicl.utils.experiment_utils import extract_config\n",
    "\n",
    "config, config_dict = extract_config(\"experiments/configs/thesis/ootg_gp_conv_encoder_tnp.yml\", [\"params.ignore_on_grid=False\"])\n",
    "config[\"generators\"][\"val\"][\"samples_per_epoch\"] = 16\n",
    "config[\"generators\"][\"off_grid_generator_val\"][\"num_tasks\"] = 2 # TODO change\n",
    "config[\"generators\"][\"off_grid_generator_val\"][\"task_correlation\"] = 0.5\n",
    "pl.seed_everything(config.misc.seed)\n",
    "experiment = instantiate(config)\n",
    "pl.seed_everything(experiment.misc.seed)\n",
    "\n",
    "batches = []\n",
    "for batch in tqdm(experiment.generators.val, total=len(experiment.generators.val), desc=\"Validation\"):\n",
    "        batches.append(batch)\n"
   ]
  },
  {
   "cell_type": "code",
   "execution_count": 63,
   "metadata": {},
   "outputs": [
    {
     "name": "stdout",
     "output_type": "stream",
     "text": [
      "torch.Size([16, 110, 1]) torch.Size([16, 110, 1]) torch.Size([16, 128, 1]) torch.Size([16, 128, 1])\n"
     ]
    }
   ],
   "source": [
    "print(batches[0].xc.shape, batches[0].yc.shape, batches[0].xt.shape, batches[0].yt.shape)"
   ]
  },
  {
   "cell_type": "code",
   "execution_count": 64,
   "metadata": {},
   "outputs": [
    {
     "data": {
      "image/png": "[encoded data removed]",
      "text/plain": [
       "<Figure size 800x600 with 1 Axes>"
      ]
     },
     "metadata": {},
     "output_type": "display_data"
    }
   ],
   "source": [
    "plot(model=experiment.model, batches=batches, num_fig=1)"
   ]
  },
  {
   "cell_type": "markdown",
   "metadata": {},
   "source": [
    "# Trying attention mask encoder"
   ]
  },
  {
   "cell_type": "code",
   "execution_count": 31,
   "metadata": {},
   "outputs": [
    {
     "name": "stdout",
     "output_type": "stream",
     "text": [
      "The autoreload extension is already loaded. To reload it, use:\n",
      "  %reload_ext autoreload\n",
      "tensor([[-2.1638,  1.7790],\n",
      "        [ 0.8656, -0.6649],\n",
      "        [ 1.2585,  1.5152],\n",
      "        [ 0.0340, -0.0292]])\n"
     ]
    },
    {
     "data": {
      "text/plain": [
       "tensor([[-0.0177, -0.7438],\n",
       "        [ 0.9377, -1.1062],\n",
       "        [-0.8188,  0.9172]])"
      ]
     },
     "execution_count": 31,
     "metadata": {},
     "output_type": "execute_result"
    }
   ],
   "source": [
    "%load_ext autoreload\n",
    "%autoreload 2\n",
    "\n",
    "import torch\n",
    "\n",
    "from icicl.networks.attention_layers import MultiHeadCrossAttentionLayer\n",
    "from icicl.networks.transformer import TNPDTransformerEncoder\n",
    "\n",
    "emb_dim = 2\n",
    "mhca_layer = MultiHeadCrossAttentionLayer(embed_dim=emb_dim, num_heads=2, head_dim=3, feedforward_dim=emb_dim)\n",
    "\n",
    "on_grid = torch.randn(2, 4, emb_dim)\n",
    "off_grid = torch.randn(2, 3, emb_dim)\n",
    "\n",
    "print(on_grid[0])\n",
    "off_grid[0]"
   ]
  },
  {
   "cell_type": "code",
   "execution_count": 32,
   "metadata": {},
   "outputs": [
    {
     "name": "stdout",
     "output_type": "stream",
     "text": [
      "batch0: 3\n",
      "batch0: 1\n",
      "batch0: 3\n",
      "batch1: 0\n",
      "batch1: 3\n",
      "batch1: 0\n"
     ]
    }
   ],
   "source": [
    "# natively find idx's:\n",
    "for idx,batch in enumerate(off_grid):\n",
    "    for vec in batch:\n",
    "        beste = (on_grid[idx] - vec).abs().sum(dim=-1).argmin()\n",
    "        print(f\"batch{idx}: {beste}\")"
   ]
  },
  {
   "cell_type": "code",
   "execution_count": 41,
   "metadata": {},
   "outputs": [
    {
     "name": "stdout",
     "output_type": "stream",
     "text": [
      "tensor([[3, 1, 3],\n",
      "        [0, 3, 0]])\n",
      "torch.Size([2, 3])\n",
      "torch.Size([2, 3])\n"
     ]
    },
    {
     "data": {
      "text/plain": [
       "tensor([[[0, 0, 0, 1],\n",
       "         [0, 1, 0, 0],\n",
       "         [0, 0, 0, 1]],\n",
       "\n",
       "        [[1, 0, 0, 0],\n",
       "         [0, 0, 0, 1],\n",
       "         [1, 0, 0, 0]]])"
      ]
     },
     "execution_count": 41,
     "metadata": {},
     "output_type": "execute_result"
    }
   ],
   "source": [
    "B, U, E = off_grid.shape # 'U'nstructured\n",
    "S = on_grid.shape[-2] # 'S'tructured\n",
    "\n",
    "\n",
    "ap = on_grid.repeat(U,1, 1, 1).movedim(0,1)\n",
    "bp = off_grid.repeat(S,1, 1, 1).movedim(0,2)\n",
    "\n",
    "idx = (bp - ap).abs().sum(dim=-1).argmin(dim=2)\n",
    "print(idx)\n",
    "\n",
    "batch_idx = torch.arange(B).unsqueeze(-1).repeat(1, U)\n",
    "print(batch_idx.shape)\n",
    "u_idx = torch.arange(U).repeat(B, 1)\n",
    "print(u_idx.shape)\n",
    "\n",
    "mask = torch.zeros(B, U, S, dtype=torch.long)\n",
    "mask[batch_idx, u_idx, idx] = 1\n",
    "mask"
   ]
  },
  {
   "cell_type": "code",
   "execution_count": 44,
   "metadata": {},
   "outputs": [
    {
     "name": "stdout",
     "output_type": "stream",
     "text": [
      "max_patches + 1 = tensor(3)\n"
     ]
    },
    {
     "data": {
      "text/plain": [
       "tensor([[0, 0, 1],\n",
       "        [0, 0, 1]])"
      ]
     },
     "execution_count": 44,
     "metadata": {},
     "output_type": "execute_result"
    }
   ],
   "source": [
    "max_patch = mask.sum(dim=1).amax() + 1\n",
    "print(\"max_patches + 1 =\", max_patch)\n",
    "\n",
    "cumcount_idx = (mask.cumsum(dim=1) - 1)[batch_idx, u_idx, idx]\n",
    "cumcount_idx"
   ]
  },
  {
   "cell_type": "code",
   "execution_count": 45,
   "metadata": {},
   "outputs": [
    {
     "data": {
      "text/plain": [
       "tensor([[[[   -inf,    -inf],\n",
       "          [   -inf,    -inf],\n",
       "          [-2.1638,  1.7790]],\n",
       "\n",
       "         [[ 0.9377, -1.1062],\n",
       "          [   -inf,    -inf],\n",
       "          [ 0.8656, -0.6649]],\n",
       "\n",
       "         [[   -inf,    -inf],\n",
       "          [   -inf,    -inf],\n",
       "          [ 1.2585,  1.5152]],\n",
       "\n",
       "         [[-0.0177, -0.7438],\n",
       "          [-0.8188,  0.9172],\n",
       "          [ 0.0340, -0.0292]]],\n",
       "\n",
       "\n",
       "        [[[-1.6140,  0.1546],\n",
       "          [-2.1089, -0.6399],\n",
       "          [-1.7450, -0.5772]],\n",
       "\n",
       "         [[   -inf,    -inf],\n",
       "          [   -inf,    -inf],\n",
       "          [-0.5732, -0.9987]],\n",
       "\n",
       "         [[   -inf,    -inf],\n",
       "          [   -inf,    -inf],\n",
       "          [-0.8811,  1.1727]],\n",
       "\n",
       "         [[-0.2456,  1.4265],\n",
       "          [   -inf,    -inf],\n",
       "          [-0.3865,  0.8791]]]])"
      ]
     },
     "execution_count": 45,
     "metadata": {},
     "output_type": "execute_result"
    }
   ],
   "source": [
    "gridded = torch.full((B, S, max_patch, E), -torch.inf)\n",
    "gridded[batch_idx, idx, cumcount_idx] = off_grid[batch_idx, torch.arange(U)]\n",
    "\n",
    "batch_idx_s = torch.arange(B).unsqueeze(-1).repeat(1, S)\n",
    "s_idx = torch.arange(S).repeat(B, 1)\n",
    "gridded[batch_idx_s, s_idx, -1] = on_grid[batch_idx_s, torch.arange(S)]\n",
    "gridded"
   ]
  },
  {
   "cell_type": "code",
   "execution_count": 46,
   "metadata": {},
   "outputs": [
    {
     "data": {
      "text/plain": [
       "tensor([[[False, False,  True]],\n",
       "\n",
       "        [[ True, False,  True]],\n",
       "\n",
       "        [[False, False,  True]],\n",
       "\n",
       "        [[ True,  True,  True]],\n",
       "\n",
       "        [[ True,  True,  True]],\n",
       "\n",
       "        [[False, False,  True]],\n",
       "\n",
       "        [[False, False,  True]],\n",
       "\n",
       "        [[ True, False,  True]]])"
      ]
     },
     "execution_count": 46,
     "metadata": {},
     "output_type": "execute_result"
    }
   ],
   "source": [
    "import einops\n",
    "\n",
    "gridded_stacked = einops.rearrange(gridded, \"b s m e -> (b s) m e\")\n",
    "\n",
    "stacked_mask_idx = gridded_stacked.sum(-1) == -torch.inf\n",
    "\n",
    "att_mask = torch.ones(B * S, 1, max_patch, dtype=torch.bool)\n",
    "att_mask[stacked_mask_idx.unsqueeze(1)] = False\n",
    "att_mask\n"
   ]
  },
  {
   "cell_type": "code",
   "execution_count": 37,
   "metadata": {},
   "outputs": [],
   "source": [
    "# necessary to not get loads of nans\n",
    "gridded_stacked[gridded_stacked == -torch.inf] = 0"
   ]
  },
  {
   "cell_type": "code",
   "execution_count": 38,
   "metadata": {},
   "outputs": [
    {
     "data": {
      "text/plain": [
       "torch.Size([8, 1, 2])"
      ]
     },
     "execution_count": 38,
     "metadata": {},
     "output_type": "execute_result"
    }
   ],
   "source": [
    "latents = torch.randn(S, E)\n",
    "latents = latents.repeat(B, 1).unsqueeze(1)\n",
    "latents.shape"
   ]
  },
  {
   "cell_type": "code",
   "execution_count": 39,
   "metadata": {},
   "outputs": [
    {
     "name": "stdout",
     "output_type": "stream",
     "text": [
      "torch.Size([8, 1, 2])\n",
      "torch.Size([2, 4, 2])\n"
     ]
    }
   ],
   "source": [
    "output_mask = mhca_layer(latents, gridded_stacked, mask=att_mask)\n",
    "print(output_mask.shape)\n",
    "#output_mask\n",
    "output = einops.rearrange(output_mask, \"(b s) 1 e -> b s e\", b=B)\n",
    "print(output.shape)\n",
    "assert output.shape == (B, S, E)"
   ]
  }
 ],
 "metadata": {
  "kernelspec": {
   "display_name": "tnp",
   "language": "python",
   "name": "python3"
  },
  "language_info": {
   "codemirror_mode": {
    "name": "ipython",
    "version": 3
   },
   "file_extension": ".py",
   "mimetype": "text/x-python",
   "name": "python",
   "nbconvert_exporter": "python",
   "pygments_lexer": "ipython3",
   "version": "3.9.12"
  }
 },
 "nbformat": 4,
 "nbformat_minor": 2
}
