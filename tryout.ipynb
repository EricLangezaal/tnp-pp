{
 "cells": [
  {
   "cell_type": "code",
   "execution_count": null,
   "metadata": {},
   "outputs": [],
   "source": [
    "import torch\n",
    "import lightning.pytorch as pl\n",
    "import matplotlib.pyplot as plt\n",
    "from hydra.utils import instantiate\n",
    "\n",
    "from icicl.utils.experiment_utils import extract_config\n",
    "from icicl.data.on_off_grid import OOTGBatch, SyntheticOOTGGenerator\n",
    "from icicl.data.gp import RandomScaleGPGenerator\n",
    "\n",
    "%load_ext autoreload\n",
    "%autoreload 2"
   ]
  },
  {
   "cell_type": "markdown",
   "metadata": {},
   "source": [
    "# Trying OOTG Batches!"
   ]
  },
  {
   "cell_type": "code",
   "execution_count": null,
   "metadata": {},
   "outputs": [],
   "source": [
    "OOTGGen = SyntheticOOTGGenerator(\n",
    "    off_grid_generator=RandomScaleGPGenerator(\n",
    "        dim=1, \n",
    "        kernel_type= \"eq\", min_log10_lengthscale= -0.602, max_log10_lengthscale= 0.602, noise_std= 0.2,\n",
    "        num_tasks=2,\n",
    "        min_num_ctx = 1, max_num_ctx = 64, min_num_trg = 128, max_num_trg = 128,\n",
    "        context_range = [[-2.0, 2.0]],\n",
    "        target_range = [[-3.0, 3.0]],\n",
    "        samples_per_epoch = 16384,\n",
    "        batch_size = 16\n",
    "    ),\n",
    "    grid_range=[[-3.0, 3.0]],\n",
    "    points_per_unit=8,\n",
    "    samples_per_epoch = 16000,\n",
    "    batch_size = 16,\n",
    ")"
   ]
  },
  {
   "cell_type": "code",
   "execution_count": null,
   "metadata": {},
   "outputs": [],
   "source": [
    "for batch in OOTGGen:\n",
    "    print(batch.xc_on_grid.shape)\n",
    "    print(batch.yc_on_grid.shape)\n",
    "    print(batch.yc_off_grid.shape)\n",
    "    print(batch.xt.shape)\n",
    "    break"
   ]
  },
  {
   "cell_type": "code",
   "execution_count": null,
   "metadata": {},
   "outputs": [],
   "source": [
    "from icicl.models.ootg_tnp import OOTGSetConvTNPDEncoder\n",
    "from icicl.utils.helpers import preprocess_observations\n",
    "from icicl.utils.conv import flatten_grid, unflatten_grid\n",
    "from icicl.networks.mlp import MLP\n",
    "\n",
    "dim = 1\n",
    "xy_encoder = MLP(in_dim= 3 + dim, out_dim = 5, num_layers = 2, width= 32)\n",
    "\n",
    "grid_encoder = OOTGSetConvTNPDEncoder(dim=dim, init_lengthscale=2 * 1/ 4, xy_encoder = xy_encoder, transformer_encoder=None)\n",
    "\n",
    "patch_size = 16\n",
    "conv = torch.nn.Conv1d(in_channels=5, out_channels=5, kernel_size=patch_size, stride=patch_size)\n",
    "\n",
    "def coarsen_grid(z: torch.Tensor) -> torch.Tensor:\n",
    "        \n",
    "        # z will be of shape (batch, num_on_grid, embed_dim)\n",
    "        z = unflatten_grid(z, dim=dim)\n",
    "        # move 'channels' (i.e embed_dim) right after batch\n",
    "        z = z.movedim(-1, 1)\n",
    "        z = conv(z)\n",
    "        # move 'channels' (i.e embed_dim) to end again\n",
    "        z = z.movedim(1, -1)\n",
    "        return flatten_grid(z)\n",
    "\n",
    "for batch in OOTGGen:\n",
    "    xc, yc = grid_encoder.grid_encode(xc_off_grid=batch.xc_off_grid, yc_off_grid=batch.yc_off_grid, xc_on_grid=batch.xc_on_grid, yc_on_grid=batch.yc_on_grid)\n",
    "    print(yc.shape)\n",
    "    yc, yt = preprocess_observations(batch.xt, yc)\n",
    "    print(yc.shape)\n",
    "    zc = torch.cat((xc, yc), dim=-1)\n",
    "    print(zc.shape)\n",
    "    # So zc is 3 + xdim\n",
    "    zc = xy_encoder(zc)\n",
    "    print(zc.shape)\n",
    "    zc = coarsen_grid(zc)  \n",
    "    print(zc.shape) \n",
    "\n",
    "    zt = torch.cat((batch.xt, yt), dim=-1)\n",
    "    zt = xy_encoder(zt)\n",
    "    print(zt.shape)\n",
    "    break"
   ]
  },
  {
   "cell_type": "markdown",
   "metadata": {},
   "source": [
    "# Profiling"
   ]
  },
  {
   "cell_type": "code",
   "execution_count": null,
   "metadata": {},
   "outputs": [],
   "source": [
    "config_tnp, _ = extract_config(\"experiments/configs/thesis/ootg_gp_conv_encoder_tnp.yml\", [])\n",
    "config_vit, _ = extract_config(\"experiments/configs/thesis/ootg_gp_conv_encoder_vit.yml\", [])\n",
    "pl.seed_everything(config_tnp.misc.seed)\n",
    "experiment_tnp = instantiate(config_tnp)\n",
    "experiment_vit = instantiate(config_vit)\n",
    "pl.seed_everything(experiment_tnp.misc.seed)"
   ]
  },
  {
   "cell_type": "code",
   "execution_count": null,
   "metadata": {},
   "outputs": [],
   "source": [
    "from icicl.utils.experiment_utils import np_loss_fn\n",
    "import time\n",
    "\n",
    "tnp = experiment_tnp.model\n",
    "vit = experiment_vit.model\n",
    "gen_train = experiment_tnp.generators.train\n",
    "\n",
    "start = time.time()\n",
    "for i, batch in enumerate(gen_train):\n",
    "    #model.encoder.grid_encode(batch.xc_off_grid, batch.yc_off_grid, batch.xc_on_grid, batch.yc_on_grid)\n",
    "    np_loss_fn(tnp, batch)\n",
    "    \n",
    "    if i > 100:\n",
    "        break\n",
    "\n",
    "print(f\"This took {time.time() - start} seconds\")"
   ]
  },
  {
   "cell_type": "markdown",
   "metadata": {},
   "source": [
    "# ConvSet TNP Encoder Tests"
   ]
  },
  {
   "cell_type": "code",
   "execution_count": null,
   "metadata": {},
   "outputs": [],
   "source": [
    "%load_ext autoreload\n",
    "%autoreload 2\n",
    "\n",
    "from icicl.utils.conv import make_grid, flatten_grid, unflatten_grid\n",
    "import torch \n",
    "import math\n",
    "import einops\n",
    "\n",
    "grid_range = torch.as_tensor([[-5,5]])\n",
    "print(grid_range)\n",
    "\n",
    "batch_shape = torch.Size((2,))\n",
    "\n",
    "xmin = grid_range[:, 0].repeat(*batch_shape, 1)\n",
    "xmax = grid_range[:, 1].repeat(*batch_shape, 1)\n",
    "\n",
    "grid = make_grid(\n",
    "    xmin = xmin, \n",
    "    xmax = xmax, \n",
    "    points_per_unit = 4, \n",
    "    margin = 0)\n",
    "\n",
    "print(grid.shape)\n",
    "print(grid.amin(), grid.amax())\n",
    "\n",
    "\n",
    "\n",
    "\n",
    "\n",
    "plat = flatten_grid(grid)\n",
    "\n",
    "onplat = unflatten_grid(plat)\n",
    "\n",
    "\n",
    "torch.allclose(grid, onplat)\n"
   ]
  },
  {
   "cell_type": "markdown",
   "metadata": {},
   "source": [
    "# Plotting 1D: Getting the true log-likelihood"
   ]
  },
  {
   "cell_type": "code",
   "execution_count": null,
   "metadata": {},
   "outputs": [],
   "source": [
    "%load_ext autoreload\n",
    "%autoreload 2\n",
    "\n",
    "from tqdm import tqdm\n",
    "import lightning.pytorch as pl\n",
    "from hydra.utils import instantiate\n",
    "from experiments.plot import plot\n",
    "from icicl.utils.experiment_utils import extract_config\n",
    "\n",
    "config, config_dict = extract_config(\"experiments/configs/thesis/ootg_gp_plain_tnp.yml\", [\"params.ignore_on_grid=False\"])\n",
    "config[\"generators\"][\"val\"][\"samples_per_epoch\"] = 16\n",
    "config[\"generators\"][\"off_grid_generator_val\"][\"num_tasks\"] = 2 # TODO change\n",
    "config[\"generators\"][\"off_grid_generator_val\"][\"task_correlation\"] = 0.8\n",
    "pl.seed_everything(config.misc.seed)\n",
    "experiment = instantiate(config)\n",
    "pl.seed_everything(experiment.misc.seed)\n",
    "\n",
    "batches = []\n",
    "for batch in tqdm(experiment.generators.val, total=len(experiment.generators.val), desc=\"Validation\"):\n",
    "        batches.append(batch)\n"
   ]
  },
  {
   "cell_type": "code",
   "execution_count": null,
   "metadata": {},
   "outputs": [],
   "source": [
    "print(batches[0].xc.shape, batches[0].yc.shape, batches[0].xt.shape, batches[0].yt.shape)"
   ]
  },
  {
   "cell_type": "code",
   "execution_count": null,
   "metadata": {},
   "outputs": [],
   "source": [
    "plot(model=experiment.model, batches=batches, num_fig=1)"
   ]
  },
  {
   "cell_type": "markdown",
   "metadata": {},
   "source": [
    "# Plotting in 2D"
   ]
  },
  {
   "cell_type": "code",
   "execution_count": null,
   "metadata": {},
   "outputs": [],
   "source": [
    "%load_ext autoreload\n",
    "%autoreload 2\n",
    "\n",
    "from tqdm import tqdm\n",
    "import lightning.pytorch as pl\n",
    "from hydra.utils import instantiate\n",
    "from experiments.plot import plot\n",
    "from icicl.utils.experiment_utils import extract_config\n",
    "\n",
    "config, config_dict = extract_config(\"experiments/configs/synthetic_1d/ootg_gp_plain_tnp.yml\", \n",
    "                                     [\"params.dim=2\", \"params.data_range=[[-4.0, 4.0], [-4.0, 4.0]]\", \"params.points_per_unit=4\"])\n",
    "config[\"generators\"][\"val\"][\"samples_per_epoch\"] = 16\n",
    "config[\"generators\"][\"off_grid_generator_val\"][\"context_range\"] = [[-2.0, 2.0], [-2.0, 2.0]]\n",
    "#config[\"generators\"][\"off_grid_generator_val\"][\"task_correlation\"] = 0.8\n",
    "pl.seed_everything(config.misc.seed)\n",
    "experiment = instantiate(config)\n",
    "pl.seed_everything(experiment.misc.seed)\n",
    "\n",
    "batches = []\n",
    "for batch in tqdm(experiment.generators.val, total=len(experiment.generators.val), desc=\"Validation\"):\n",
    "        batches.append(batch)"
   ]
  },
  {
   "cell_type": "code",
   "execution_count": null,
   "metadata": {},
   "outputs": [],
   "source": [
    "print(batches[0].xc_on_grid.shape)\n",
    "plot(model=experiment.model, batches=batches, num_fig=1)"
   ]
  },
  {
   "cell_type": "markdown",
   "metadata": {},
   "source": [
    "# Plotting just the data"
   ]
  },
  {
   "cell_type": "code",
   "execution_count": null,
   "metadata": {},
   "outputs": [],
   "source": [
    "import torch\n",
    "import gpytorch\n",
    "import matplotlib.pyplot as plt\n",
    "import lightning.pytorch as pl\n",
    "from icicl.data.synthetic import SyntheticBatch\n",
    "from hydra.utils import instantiate\n",
    "from experiments.plot import plot\n",
    "from icicl.utils.experiment_utils import extract_config\n",
    "from icicl.data.gp import MultitaskGPModel\n",
    "\n",
    "config, config_dict = extract_config(\"experiments/configs/thesis/ootg_gp_conv_encoder_tnp.yml\", [\"params.ignore_on_grid=False\"])\n",
    "config[\"generators\"][\"val\"][\"samples_per_epoch\"] = 16\n",
    "config[\"generators\"][\"off_grid_generator_val\"][\"context_range\"] = [[-3.0, 3.0]]\n",
    "pl.seed_everything(config.misc.seed)\n",
    "experiment = instantiate(config)\n",
    "pl.seed_everything(experiment.misc.seed)\n",
    "\n",
    "for batch in experiment.generators.val:\n",
    "        pass\n",
    "\n",
    "x_plot = torch.linspace(-5.0, 5.0, 256)[None, :, None]\n",
    "def plot_with_std(means, stds, color):\n",
    "    plt.plot(\n",
    "        x_plot[0,:,0].cpu(),\n",
    "        means[0, :].cpu(),\n",
    "        \"--\",\n",
    "        color=color,\n",
    "        lw=1,\n",
    "    )\n",
    "\n",
    "    plt.fill_between(\n",
    "        x_plot[0,:,0].cpu(),  \n",
    "        means[0, :].cpu() - 2 * stds[0, :].cpu(),  \n",
    "        means[0, :].cpu() + 2 * stds[0, :].cpu(),\n",
    "        color=color,\n",
    "        alpha=0.3,\n",
    "    )\n",
    "\n",
    "# Make figure for plotting\n",
    "fig = plt.figure(figsize=(8.0, 6.0))\n",
    "\n",
    "# Plot context and target points\n",
    "plt.scatter(\n",
    "    torch.concat((batch.xc_off_grid, batch.xt), dim=-2)[0, :, 0].cpu().numpy(),\n",
    "    torch.concat((batch.yc_off_grid, batch.yt), dim=-2)[0, :, 0].cpu().numpy(),\n",
    "    c=\"k\",\n",
    "    label=\"Task 1\",\n",
    "    s=30,\n",
    ")\n",
    "\n",
    "plt.scatter(\n",
    "    batch.xc_on_grid[0, :, 0].cpu().numpy(),\n",
    "    batch.yc_on_grid[0, :, 0].cpu().numpy(),\n",
    "    c=\"r\",\n",
    "    label=\"Task 2\",\n",
    "    s=30,\n",
    ")\n",
    "\n",
    "with torch.no_grad():\n",
    "    gt_mean, gt_std, _ = batch.gt_pred(\n",
    "        xc=batch.xc[:1],\n",
    "        yc=batch.yc[:1],\n",
    "        xt=x_plot,\n",
    "        batch=batch\n",
    "    )\n",
    "    # Plot ground truth\n",
    "    plot_with_std(gt_mean, gt_std, color=\"k\")\n",
    "\n",
    "    likelihood = gpytorch.likelihoods.GaussianLikelihood()\n",
    "    likelihood.noise = batch.gt_pred.noise_std ** 2\n",
    "    num_off_grid = batch.xc_off_grid.shape[-2]\n",
    "    xc_labels = torch.concat((\n",
    "        torch.zeros(num_off_grid, 1),\n",
    "        torch.ones(batch.xc[:1].shape[-2] - num_off_grid, 1)), \n",
    "    ).to(torch.long)\n",
    "    model = MultitaskGPModel((batch.xc[:1].to(torch.float64), xc_labels), batch.yc[:1].squeeze(-1).to(torch.float64), batch.gt_pred.kernel, likelihood, index_kernel=batch.gt_pred.index_kernel)\n",
    "    model.eval() \n",
    "    outputDist = likelihood(model(x_plot[:1].to(torch.float64), torch.ones(x_plot[:1].shape[-2], 1, dtype=torch.long)))\n",
    "\n",
    "    plot_with_std(outputDist.mean, outputDist.stddev, color=\"r\")\n",
    "\n",
    "plt.grid()\n",
    "plt.xlim((-5.0, 5.0))\n",
    "\n",
    "y_max = 0.25 + max(gt_mean[0, ...] + 2 * gt_std[0, ...])\n",
    "y_min = -0.25 + min(gt_mean[0, ...] - 2 * gt_std[0, ...])\n",
    "y_lim = (y_min.cpu(), y_max.cpu())\n",
    "plt.ylim(y_lim)\n",
    "\n",
    "plt.xticks(fontsize=24)\n",
    "plt.yticks(fontsize=24)\n",
    "\n",
    "plt.legend(loc=\"upper right\", fontsize=20)\n",
    "plt.tight_layout()\n",
    "\n",
    "if True:\n",
    "    plt.savefig(\"hadamard_gp_data_example.svg\")"
   ]
  },
  {
   "cell_type": "markdown",
   "metadata": {},
   "source": [
    "# MHCA Encoding Approach"
   ]
  },
  {
   "cell_type": "code",
   "execution_count": 1,
   "metadata": {},
   "outputs": [
    {
     "name": "stdout",
     "output_type": "stream",
     "text": [
      "tensor([[-0.1026,  0.1062],\n",
      "        [ 1.4212, -0.2187],\n",
      "        [-0.5984, -0.1130],\n",
      "        [ 0.4649, -1.3099]])\n"
     ]
    },
    {
     "data": {
      "text/plain": [
       "tensor([[-0.5509, -0.6544],\n",
       "        [-0.4846, -0.3694],\n",
       "        [ 0.9400,  0.1402]])"
      ]
     },
     "execution_count": 1,
     "metadata": {},
     "output_type": "execute_result"
    }
   ],
   "source": [
    "%load_ext autoreload\n",
    "%autoreload 2\n",
    "\n",
    "import torch\n",
    "\n",
    "from icicl.networks.attention_layers import MultiHeadCrossAttentionLayer\n",
    "from icicl.networks.transformer import TNPDTransformerEncoder\n",
    "\n",
    "emb_dim = 2\n",
    "mhca_layer = MultiHeadCrossAttentionLayer(embed_dim=emb_dim, num_heads=2, head_dim=3, feedforward_dim=emb_dim)\n",
    "\n",
    "on_grid = torch.randn(2, 4, emb_dim)\n",
    "off_grid = torch.randn(2, 3, emb_dim)\n",
    "\n",
    "print(on_grid[0])\n",
    "off_grid[0]"
   ]
  },
  {
   "cell_type": "code",
   "execution_count": 2,
   "metadata": {},
   "outputs": [
    {
     "name": "stdout",
     "output_type": "stream",
     "text": [
      "batch0: 2\n",
      "batch0: 2\n",
      "batch0: 1\n",
      "batch1: 2\n",
      "batch1: 0\n",
      "batch1: 3\n"
     ]
    }
   ],
   "source": [
    "# natively find idx's:\n",
    "for idx,batch in enumerate(off_grid):\n",
    "    for vec in batch:\n",
    "        beste = (on_grid[idx] - vec).abs().sum(dim=-1).argmin()\n",
    "        print(f\"batch{idx}: {beste}\")"
   ]
  },
  {
   "cell_type": "code",
   "execution_count": 3,
   "metadata": {},
   "outputs": [
    {
     "name": "stdout",
     "output_type": "stream",
     "text": [
      "tensor([[2, 2, 1],\n",
      "        [2, 0, 3]])\n",
      "torch.Size([2, 3])\n",
      "torch.Size([2, 3])\n"
     ]
    },
    {
     "data": {
      "text/plain": [
       "tensor([[[0, 0, 1, 0],\n",
       "         [0, 0, 1, 0],\n",
       "         [0, 1, 0, 0]],\n",
       "\n",
       "        [[0, 0, 1, 0],\n",
       "         [1, 0, 0, 0],\n",
       "         [0, 0, 0, 1]]])"
      ]
     },
     "execution_count": 3,
     "metadata": {},
     "output_type": "execute_result"
    }
   ],
   "source": [
    "B, U, E = off_grid.shape # 'U'nstructured\n",
    "S = on_grid.shape[-2] # 'S'tructured\n",
    "\n",
    "\n",
    "ap = on_grid.repeat(U,1, 1, 1).movedim(0,1)\n",
    "bp = off_grid.repeat(S,1, 1, 1).movedim(0,2)\n",
    "\n",
    "idx = (bp - ap).abs().sum(dim=-1).argmin(dim=2)\n",
    "print(idx)\n",
    "\n",
    "batch_idx = torch.arange(B).unsqueeze(-1).repeat(1, U)\n",
    "print(batch_idx.shape)\n",
    "u_idx = torch.arange(U).repeat(B, 1)\n",
    "print(u_idx.shape)\n",
    "\n",
    "mask = torch.zeros(B, U, S, dtype=torch.long)\n",
    "mask[batch_idx, u_idx, idx] = 1\n",
    "mask"
   ]
  },
  {
   "cell_type": "code",
   "execution_count": 7,
   "metadata": {},
   "outputs": [
    {
     "name": "stdout",
     "output_type": "stream",
     "text": [
      "tensor([[2, 3, 5],\n",
      "        [1, 4, 3]], dtype=torch.int32)\n"
     ]
    }
   ],
   "source": [
    "grid_shape = torch.Tensor([4])\n",
    "\n",
    "x_grid_min = on_grid.amin(dim=(0, 1))\n",
    "x_grid_max = on_grid.amax(dim=(0, 1))\n",
    "x_grid_spacing = (x_grid_max - x_grid_min) / (grid_shape - 1)\n",
    "\n",
    "nearest_multi_idx = (off_grid - x_grid_min + x_grid_spacing / 2) // x_grid_spacing\n",
    "nearest_multi_idx = torch.max(\n",
    "    torch.min(nearest_multi_idx, grid_shape - 1), torch.zeros_like(grid_shape)\n",
    ")\n",
    "strides = torch.flip(\n",
    "    torch.cumprod(torch.cat((torch.ones((1,)), grid_shape), dim=0), dim=0)[:-1],\n",
    "    dims=(0,),\n",
    ")\n",
    "# (batch_size, n).\n",
    "nearest_idx2 = (nearest_multi_idx * strides).sum(dim=-1).type(torch.int)\n",
    "\n",
    "print(nearest_idx2)"
   ]
  },
  {
   "cell_type": "code",
   "execution_count": null,
   "metadata": {},
   "outputs": [],
   "source": [
    "max_patch = mask.sum(dim=1).amax() + 1\n",
    "print(\"max_patches + 1 =\", max_patch)\n",
    "\n",
    "cumcount_idx = (mask.cumsum(dim=1) - 1)[batch_idx, u_idx, idx]\n",
    "cumcount_idx"
   ]
  },
  {
   "cell_type": "code",
   "execution_count": null,
   "metadata": {},
   "outputs": [],
   "source": [
    "FAKE_TOKEN = -torch.inf\n",
    "gridded = torch.full((B, S, max_patch, E), FAKE_TOKEN)\n",
    "gridded[batch_idx, idx, cumcount_idx] = off_grid[batch_idx, torch.arange(U)]\n",
    "\n",
    "\n",
    "batch_idx_s = torch.arange(B).unsqueeze(-1).repeat(1, S)\n",
    "s_idx = torch.arange(S).repeat(B, 1)\n",
    "\n",
    "gridded[batch_idx_s, s_idx, -1] = on_grid[batch_idx_s, torch.arange(S)]\n",
    "gridded"
   ]
  },
  {
   "cell_type": "code",
   "execution_count": null,
   "metadata": {},
   "outputs": [],
   "source": [
    "ignore_on_grid = False\n",
    "if ignore_on_grid:\n",
    "    gridded[batch_idx_s, s_idx, -1] = torch.arange(E).to(torch.float32)\n",
    "    print(gridded)"
   ]
  },
  {
   "cell_type": "code",
   "execution_count": null,
   "metadata": {},
   "outputs": [],
   "source": [
    "import einops\n",
    "\n",
    "gridded_stacked = einops.rearrange(gridded, \"b s m e -> (b s) m e\")\n",
    "gridded_stacked"
   ]
  },
  {
   "cell_type": "code",
   "execution_count": null,
   "metadata": {},
   "outputs": [],
   "source": [
    "stacked_mask_idx = gridded_stacked.sum(-1) == FAKE_TOKEN\n",
    "\n",
    "att_mask = torch.ones(gridded_stacked.size(0), 1, max_patch, dtype=torch.bool)\n",
    "att_mask[stacked_mask_idx.unsqueeze(1)] = False\n",
    "att_mask"
   ]
  },
  {
   "cell_type": "code",
   "execution_count": null,
   "metadata": {},
   "outputs": [],
   "source": [
    "# necessary to not get loads of nans\n",
    "gridded_stacked[gridded_stacked == FAKE_TOKEN] = 0"
   ]
  },
  {
   "cell_type": "code",
   "execution_count": null,
   "metadata": {},
   "outputs": [],
   "source": [
    "latents = torch.randn(S, E)\n",
    "latents = latents.repeat(B, 1).unsqueeze(1)\n",
    "latents.shape"
   ]
  },
  {
   "cell_type": "code",
   "execution_count": null,
   "metadata": {},
   "outputs": [],
   "source": [
    "output_mask = mhca_layer(latents, gridded_stacked, mask=att_mask)\n",
    "print(output_mask.shape)\n",
    "#output_mask\n",
    "output = einops.rearrange(output_mask, \"(b s) 1 e -> b s e\", b=B)\n",
    "print(output.shape)\n",
    "assert output.shape == (B, S, E)"
   ]
  },
  {
   "cell_type": "code",
   "execution_count": null,
   "metadata": {},
   "outputs": [],
   "source": [
    "print(output)"
   ]
  },
  {
   "cell_type": "markdown",
   "metadata": {},
   "source": [
    "# Speedtest results"
   ]
  },
  {
   "cell_type": "code",
   "execution_count": 1,
   "metadata": {},
   "outputs": [
    {
     "data": {
      "image/png": "[encoded data removed]",
      "text/plain": [
       "<Figure size 640x480 with 1 Axes>"
      ]
     },
     "metadata": {},
     "output_type": "display_data"
    }
   ],
   "source": [
    "import matplotlib.pyplot as plt\n",
    "\n",
    "# measured by running untill TQDM iterations stabilizes\n",
    "# uses Math attention for MHCA Encoder as opposed to mem efficient due to scale issues.\n",
    "\n",
    "# and 32 off_grid context + 32 targets\n",
    "results_10k = {\"SetConv \\n Regular TNP\": 0.32,\n",
    "               \"SetConv \\n ViT\": 19.0, \n",
    "               \"SetConv \\n Swin\": 1.6, \n",
    "               \"MHCA \\n Regular TNP\": 0.31,\n",
    "               \"MHCA \\n ViT\": 9.4, \n",
    "               \"MHCA \\n Swin\": 2.5} \n",
    "\n",
    "\n",
    "plt.bar(results_10k.keys(), results_10k.values(), color=[\"red\"] * 3 + [\"blue\"] * 3)\n",
    "plt.ylabel(\"Iterations per second\");\n",
    "plt.title(\"Input: 16 batches of 10k random 2d grid_data (ws=20 & ps=5)\");"
   ]
  },
  {
   "cell_type": "markdown",
   "metadata": {},
   "source": [
    "# ERA5 stuff"
   ]
  },
  {
   "cell_type": "code",
   "execution_count": 56,
   "metadata": {},
   "outputs": [
    {
     "name": "stdout",
     "output_type": "stream",
     "text": [
      "The autoreload extension is already loaded. To reload it, use:\n",
      "  %reload_ext autoreload\n"
     ]
    }
   ],
   "source": [
    "%load_ext autoreload\n",
    "%autoreload 2\n",
    "\n",
    "import torch\n",
    "from icicl.data.era5 import OOTGEra5DataGenerator\n",
    "\n",
    "gen = OOTGEra5DataGenerator(\n",
    "    data_dir=\"./data/era5/\",\n",
    "    fnames = [\"jan_2019_2m_temperature.nc\"],\n",
    "    data_vars = [\"t2m\"], # \"which do we want to load?\" (lat/lon/time always loaded)\n",
    "    min_pc = 0.0001, # context proportions min\n",
    "    max_pc = 0.001, # max number context points out of total (product of batch_grid_size)\n",
    "    batch_grid_size = [1, 512, 512], # time, lat, lon (this is exactly 0.25 degree grid)\n",
    "    coarsen_factors=[1, 8, 8],\n",
    "    samples_per_epoch = 16_000,\n",
    "    batch_size = 16,\n",
    "    max_nt = 200, #maximum number of target points\n",
    "    min_num_total = 100,\n",
    "    t_spacing = 6,\n",
    "    use_time = True,\n",
    "    return_as_gridded = True\n",
    ")"
   ]
  },
  {
   "cell_type": "code",
   "execution_count": 62,
   "metadata": {},
   "outputs": [
    {
     "name": "stdout",
     "output_type": "stream",
     "text": [
      "x, y:  torch.Size([16, 4408, 3]) torch.Size([16, 4408, 1])\n",
      "xc, yc:  torch.Size([16, 4208, 3]) torch.Size([16, 4208, 1])\n",
      "xt, yt:  torch.Size([16, 200, 3]) torch.Size([16, 200, 1])\n",
      "xc_on_grid, yc_on_grid:  torch.Size([16, 1, 64, 64, 3]) torch.Size([16, 1, 64, 64, 1])\n",
      "xc_off_grid, yc_off_grid:  torch.Size([16, 112, 3]) torch.Size([16, 112, 1])\n"
     ]
    }
   ],
   "source": [
    "batch = gen.generate_batch()\n",
    "print(\"x, y: \", batch.x.shape, batch.y.shape)\n",
    "print(\"xc, yc: \", batch.xc.shape, batch.yc.shape)\n",
    "print(\"xt, yt: \", batch.xt.shape, batch.yt.shape) # context and target do not necessarily make up whole data, depends on max_nt.\n",
    "\n",
    "print(\"xc_on_grid, yc_on_grid: \", batch.xc_on_grid.shape, batch.yc_on_grid.shape) \n",
    "print(\"xc_off_grid, yc_off_grid: \", batch.xc_off_grid.shape, batch.yc_off_grid.shape) \n"
   ]
  },
  {
   "cell_type": "code",
   "execution_count": 73,
   "metadata": {},
   "outputs": [
    {
     "name": "stdout",
     "output_type": "stream",
     "text": [
      "torch.Size([16, 1, 64, 64, 3])\n",
      "torch.Size([16, 1, 8, 8, 3])\n"
     ]
    }
   ],
   "source": [
    "from typing import Tuple\n",
    "\n",
    "def coarsen_grid(grid: torch.Tensor, coarsen_factors: Tuple[int, int, int]) -> torch.Tensor:\n",
    "    grid = grid.movedim(-1, 1) # move data dim to channel location\n",
    "    coarse_grid = torch.nn.functional.avg_pool3d(\n",
    "        grid, \n",
    "        kernel_size=coarsen_factors,\n",
    "        stride=coarsen_factors,\n",
    "    )\n",
    "    coarse_grid = coarse_grid.movedim(1, -1) # move embed dim back to the end\n",
    "    return coarse_grid\n",
    "\n",
    "print(batch.xc_on_grid.shape)\n",
    "\n",
    "coarsed = coarsen_grid(batch.xc_on_grid, (1, 8, 8))\n",
    "\n",
    "print(coarsed.shape)"
   ]
  }
 ],
 "metadata": {
  "kernelspec": {
   "display_name": "tnp",
   "language": "python",
   "name": "python3"
  },
  "language_info": {
   "codemirror_mode": {
    "name": "ipython",
    "version": 3
   },
   "file_extension": ".py",
   "mimetype": "text/x-python",
   "name": "python",
   "nbconvert_exporter": "python",
   "pygments_lexer": "ipython3",
   "version": "3.9.12"
  }
 },
 "nbformat": 4,
 "nbformat_minor": 2
}
