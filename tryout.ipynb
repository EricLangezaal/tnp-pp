{
 "cells": [
  {
   "cell_type": "code",
   "execution_count": 37,
   "metadata": {},
   "outputs": [
    {
     "name": "stdout",
     "output_type": "stream",
     "text": [
      "The autoreload extension is already loaded. To reload it, use:\n",
      "  %reload_ext autoreload\n"
     ]
    }
   ],
   "source": [
    "import torch\n",
    "import lightning.pytorch as pl\n",
    "import matplotlib.pyplot as plt\n",
    "from hydra.utils import instantiate\n",
    "\n",
    "from icicl.utils.experiment_utils import extract_config\n",
    "from icicl.data.on_off_grid import OOTGBatch, SyntheticOOTGGenerator\n",
    "from icicl.data.gp import RandomScaleGPGenerator\n",
    "\n",
    "%load_ext autoreload\n",
    "%autoreload 2"
   ]
  },
  {
   "cell_type": "markdown",
   "metadata": {},
   "source": [
    "# Trying OOTG Batches!"
   ]
  },
  {
   "cell_type": "code",
   "execution_count": 34,
   "metadata": {},
   "outputs": [],
   "source": [
    "OOTGGen = SyntheticOOTGGenerator(\n",
    "    off_grid_generator=RandomScaleGPGenerator(\n",
    "        dim=1, \n",
    "        kernel_type= \"eq\", min_log10_lengthscale= -0.602, max_log10_lengthscale= 0.602, noise_std= 0.2,\n",
    "        out_dim=2,\n",
    "        min_num_ctx = 1, max_num_ctx = 64, min_num_trg = 128, max_num_trg = 128,\n",
    "        context_range = [[-2.0, 2.0]],\n",
    "        target_range = [[-3.0, 3.0]],\n",
    "        samples_per_epoch = 16384,\n",
    "        batch_size = 16\n",
    "    ),\n",
    "    grid_range=[[-3.0, 3.0]],\n",
    "    points_per_unit=64,\n",
    "    samples_per_epoch = 16000,\n",
    "    batch_size = 16,\n",
    ")"
   ]
  },
  {
   "cell_type": "code",
   "execution_count": 36,
   "metadata": {},
   "outputs": [
    {
     "name": "stdout",
     "output_type": "stream",
     "text": [
      "torch.Size([16, 513, 1])\n",
      "torch.Size([16, 513, 1])\n",
      "torch.Size([16, 12, 1])\n",
      "torch.Size([16, 128, 1])\n"
     ]
    }
   ],
   "source": [
    "for batch in OOTGGen:\n",
    "    print(batch.xc_on_grid.shape)\n",
    "    print(batch.yc_on_grid.shape)\n",
    "    print(batch.yc_off_grid.shape)\n",
    "    print(batch.xt.shape)\n",
    "    break"
   ]
  },
  {
   "cell_type": "code",
   "execution_count": 30,
   "metadata": {},
   "outputs": [
    {
     "name": "stdout",
     "output_type": "stream",
     "text": [
      "torch.Size([16, 33, 5])\n",
      "torch.Size([16, 5, 33])\n",
      "torch.Size([16, 5, 8])\n",
      "torch.Size([16, 8, 5])\n",
      "torch.Size([16, 128, 5])\n"
     ]
    }
   ],
   "source": [
    "from icicl.models.ootg_tnp import OOTGSetConvEncoder\n",
    "from icicl.utils.helpers import preprocess_observations\n",
    "from icicl.utils.conv import flatten_grid, unflatten_grid\n",
    "from icicl.networks.mlp import MLP\n",
    "import einops\n",
    "\n",
    "grid_encoder = OOTGSetConvEncoder(dim=1, init_lengthscale=2 * 1 / 4)\n",
    "xy_encoder = MLP(in_dim= 3 + 1, out_dim = 5, num_layers = 2, width= 32)\n",
    "\n",
    "patch_size = 4\n",
    "conv = torch.nn.Conv1d(in_channels=5, out_channels=5, kernel_size=patch_size, stride=patch_size)\n",
    "\n",
    "for batch in OOTGGen:\n",
    "    xc, yc = grid_encoder(xc_off_grid=batch.xc_off_grid, yc_off_grid=batch.yc_off_grid, xc_on_grid=batch.xc_on_grid, yc_on_grid=batch.yc_on_grid)\n",
    "\n",
    "    yc, yt = preprocess_observations(batch.xt, yc)\n",
    "    zc = torch.cat((xc, yc), dim=-1)\n",
    "    zc = xy_encoder(zc)\n",
    "    print(zc.shape)\n",
    "\n",
    "    zc = unflatten_grid(zc, dim=1)\n",
    "    zc = zc.movedim(-1, 1)\n",
    "    print(zc.shape)\n",
    "    zc = conv(zc)\n",
    "    print(zc.shape)\n",
    "    zc = zc.movedim(1, -1)\n",
    "    zc = flatten_grid(zc)\n",
    "    print(zc.shape)\n",
    "\n",
    "    zt = torch.cat((batch.xt, yt), dim=-1)\n",
    "    zt = xy_encoder(zt)\n",
    "    print(zt.shape)\n",
    "    break"
   ]
  },
  {
   "cell_type": "markdown",
   "metadata": {},
   "source": [
    "# Profiling"
   ]
  },
  {
   "cell_type": "code",
   "execution_count": 77,
   "metadata": {},
   "outputs": [
    {
     "name": "stderr",
     "output_type": "stream",
     "text": [
      "Global seed set to 0\n",
      "Global seed set to 0\n"
     ]
    },
    {
     "data": {
      "text/plain": [
       "0"
      ]
     },
     "execution_count": 77,
     "metadata": {},
     "output_type": "execute_result"
    }
   ],
   "source": [
    "#config, config_dict = extract_config(\"experiments/configs/thesis/ootg_gp_conv_encoder_tnp.yml\", [])\n",
    "config, config_dict = extract_config(\"experiments/configs/thesis/ootg_gp_conv_encoder_vit.yml\", [])\n",
    "pl.seed_everything(config.misc.seed)\n",
    "experiment = instantiate(config)\n",
    "pl.seed_everything(experiment.misc.seed)"
   ]
  },
  {
   "cell_type": "code",
   "execution_count": 85,
   "metadata": {},
   "outputs": [
    {
     "name": "stdout",
     "output_type": "stream",
     "text": [
      "This took 14.630586385726929 seconds\n"
     ]
    }
   ],
   "source": [
    "from icicl.utils.experiment_utils import np_loss_fn\n",
    "import time\n",
    "\n",
    "model = experiment.model\n",
    "gen_train = experiment.generators.train\n",
    "grid_encoder = OOTGSetConvEncoder(dim=1, init_lengthscale=2 * 1 / 4)\n",
    "\n",
    "start = time.time()\n",
    "for i, batch in enumerate(gen_train):\n",
    "    #grid_encoder(batch.xc_off_grid, batch.yc_off_grid, batch.xc_on_grid, batch.yc_on_grid)\n",
    "    #np_loss_fn(model, batch)\n",
    "    \n",
    "    if i > 100:\n",
    "        break\n",
    "\n",
    "print(f\"This took {time.time() - start} seconds\")"
   ]
  },
  {
   "cell_type": "markdown",
   "metadata": {},
   "source": [
    "# ConvSet TNP Encoder Tests"
   ]
  },
  {
   "cell_type": "code",
   "execution_count": 2,
   "metadata": {},
   "outputs": [
    {
     "name": "stdout",
     "output_type": "stream",
     "text": [
      "tensor([[-3.,  3.],\n",
      "        [-4.,  4.]])\n",
      "torch.Size([2, 33, 33, 2])\n"
     ]
    },
    {
     "data": {
      "text/plain": [
       "True"
      ]
     },
     "execution_count": 2,
     "metadata": {},
     "output_type": "execute_result"
    }
   ],
   "source": [
    "from icicl.utils.conv import make_grid, flatten_grid, unflatten_grid\n",
    "import torch \n",
    "import math\n",
    "import einops\n",
    "\n",
    "grid_range = torch.as_tensor([[-3.0, 3.0], [-4.0, 4.0]])\n",
    "print(grid_range)\n",
    "\n",
    "batch_shape = torch.Size((2,))\n",
    "\n",
    "\n",
    "grid = make_grid(\n",
    "    xmin = grid_range[:, 0].repeat(*batch_shape, 1), \n",
    "    xmax = grid_range[:, 1].repeat(*batch_shape, 1), \n",
    "    points_per_unit = 4, \n",
    "    margin = 0)\n",
    "\n",
    "print(grid.shape)\n",
    "\n",
    "\n",
    "\n",
    "plat = flatten_grid(grid)\n",
    "\n",
    "onplat = unflatten_grid(plat)\n",
    "\n",
    "\n",
    "torch.allclose(grid, onplat)\n"
   ]
  }
 ],
 "metadata": {
  "kernelspec": {
   "display_name": "tnp",
   "language": "python",
   "name": "python3"
  },
  "language_info": {
   "codemirror_mode": {
    "name": "ipython",
    "version": 3
   },
   "file_extension": ".py",
   "mimetype": "text/x-python",
   "name": "python",
   "nbconvert_exporter": "python",
   "pygments_lexer": "ipython3",
   "version": "3.9.12"
  }
 },
 "nbformat": 4,
 "nbformat_minor": 2
}
